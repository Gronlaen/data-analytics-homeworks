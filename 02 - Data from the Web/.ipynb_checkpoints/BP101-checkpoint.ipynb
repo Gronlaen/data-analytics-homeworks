{
 "cells": [
  {
   "cell_type": "markdown",
   "metadata": {},
   "source": [
    "### Imports"
   ]
  },
  {
   "cell_type": "code",
   "execution_count": 31,
   "metadata": {
    "collapsed": false
   },
   "outputs": [],
   "source": [
    "#Packages needed: pydotplus - conda install -c conda-forge pydotplus=2.0.2\n",
    "\n",
    "import networkx as nx\n",
    "import matplotlib.pyplot as plt\n",
    "import numpy as np\n",
    "import random\n",
    "from random import shuffle\n",
    "import time\n",
    "\n",
    "%matplotlib inline "
   ]
  },
  {
   "cell_type": "markdown",
   "metadata": {},
   "source": [
    "## Graph Creation"
   ]
  },
  {
   "cell_type": "code",
   "execution_count": 32,
   "metadata": {
    "collapsed": true
   },
   "outputs": [],
   "source": [
    "def inv_matrix_creation(colors_array) :\n",
    "    color_number = len(colors_array)\n",
    "    mat = np.subtract(np.ones((color_number,color_number)),np.identity(color_number))\n",
    "    return mat"
   ]
  },
  {
   "cell_type": "code",
   "execution_count": 33,
   "metadata": {
    "collapsed": false
   },
   "outputs": [
    {
     "data": {
      "text/plain": [
       "'nx.draw(G, pos, with_labels=False, arrows=True,\\n        nodelist = custom_node_color_test.keys(),\\n        node_color = list(custom_node_color_test.values()),\\n        node_size = 100)\\n'"
      ]
     },
     "execution_count": 33,
     "metadata": {},
     "output_type": "execute_result"
    }
   ],
   "source": [
    "# Creation of the Graph\n",
    "G = nx.Graph()\n",
    "\n",
    "G = nx.balanced_tree(2,3)\n",
    "\n",
    "# positions for all nodes\n",
    "#tree up to bottom\n",
    "#pos=nx.nx_pydot.graphviz_layout(G,prog='dot')\n",
    "\n",
    "#tree flat\n",
    "pos=nx.nx_pydot.graphviz_layout(G)\n",
    "\n",
    "colors = ['lightblue','pink','yellow','orange','lightgreen']\n",
    "\n",
    "custom_node_color_test={}\n",
    "\n",
    "for x in G.nodes():\n",
    "    if G.degree(x) is 1 :\n",
    "        custom_node_color_test[x] = random.choice(colors)\n",
    "    else :\n",
    "        custom_node_color_test[x] = 'lightgray'\n",
    "\n",
    "\n",
    "\"\"\"nx.draw(G, pos, with_labels=False, arrows=True,\n",
    "        nodelist = custom_node_color_test.keys(),\n",
    "        node_color = list(custom_node_color_test.values()),\n",
    "        node_size = 100)\n",
    "\"\"\""
   ]
  },
  {
   "cell_type": "code",
   "execution_count": 34,
   "metadata": {
    "collapsed": false
   },
   "outputs": [],
   "source": [
    "H = nx.erdos_renyi_graph(20,0.2)\n",
    "#pos2 = nx.circular_layout(H)\n",
    "#nx.draw(H,pos2,with_labels=True)\n",
    "\n",
    "colors = ['lightblue','pink','yellow','orange','lightgreen']\n",
    "\n",
    "number_colors = len(colors)\n",
    "\n",
    "nodes = H.nodes()\n",
    "current_node = random.choice(nodes)"
   ]
  },
  {
   "cell_type": "code",
   "execution_count": 35,
   "metadata": {
    "collapsed": false
   },
   "outputs": [
    {
     "data": {
      "text/plain": [
       "'nx.draw(H, pos2, with_labels=True,\\n        nodelist = custom_node_color2.keys(),\\n        node_color = list(custom_node_color2.values()),\\n        node_size = list(custom_node_size.values()),\\n        edge_list = custom_edge_color.keys(),\\n        edge_color = list(custom_edge_color.values())\\n       )'"
      ]
     },
     "execution_count": 35,
     "metadata": {},
     "output_type": "execute_result"
    }
   ],
   "source": [
    "custom_node_color = {}\n",
    "custom_node_size = {}\n",
    "custom_edge_color = {}\n",
    "marginals = {}\n",
    "\n",
    "for x in H.nodes():\n",
    "    custom_node_color[x] = random.choice(colors)\n",
    "    marginals[x] = np.divide(np.ones(5),number_colors)\n",
    "    #custom_node_size[x] = 500\n",
    "\n",
    "for (x,y) in H.edges():\n",
    "    custom_edge_color[(x,y)] = 'black'\n",
    "    \n",
    "\n",
    "#custom_node_color[current_node] = 'lightblue'\n",
    "#custom_node_size[current_node] = 800\n",
    "\n",
    "\"\"\"nx.draw(H, pos2, with_labels=True,\n",
    "        nodelist = custom_node_color2.keys(),\n",
    "        node_color = list(custom_node_color2.values()),\n",
    "        node_size = list(custom_node_size.values()),\n",
    "        edge_list = custom_edge_color.keys(),\n",
    "        edge_color = list(custom_edge_color.values())\n",
    "       )\"\"\"\n"
   ]
  },
  {
   "cell_type": "code",
   "execution_count": 36,
   "metadata": {
    "collapsed": true
   },
   "outputs": [],
   "source": [
    "candidates_nodes = []\n",
    "tree_nodes = [current_node]\n",
    "discarded_nodes = []"
   ]
  },
  {
   "cell_type": "code",
   "execution_count": 37,
   "metadata": {
    "collapsed": false
   },
   "outputs": [
    {
     "data": {
      "text/plain": [
       "'nx.draw(H, pos2, with_labels=True,\\n        nodelist = custom_node_color2.keys(),\\n        node_color = list(custom_node_color.values()),\\n        node_size = list(custom_node_size.values()),\\n        edge_list = custom_edge_color.keys(),\\n        edge_color = custom_edge_color.values()\\n       )'"
      ]
     },
     "execution_count": 37,
     "metadata": {},
     "output_type": "execute_result"
    }
   ],
   "source": [
    "for x in H.neighbors(current_node):\n",
    "    #custom_node_color[x] = 'lightblue'\n",
    "    #custom_node_size[x] = 500\n",
    "    #custom_edge_color[(current_node,x)] = 'black'\n",
    "    candidates_nodes.append(x)\n",
    "    \n",
    "custom_node_color[current_node] = 'blue'\n",
    "\n",
    "\"\"\"nx.draw(H, pos2, with_labels=True,\n",
    "        nodelist = custom_node_color2.keys(),\n",
    "        node_color = list(custom_node_color.values()),\n",
    "        node_size = list(custom_node_size.values()),\n",
    "        edge_list = custom_edge_color.keys(),\n",
    "        edge_color = custom_edge_color.values()\n",
    "       )\"\"\""
   ]
  },
  {
   "cell_type": "code",
   "execution_count": 38,
   "metadata": {
    "collapsed": false,
    "scrolled": false
   },
   "outputs": [
    {
     "data": {
      "text/plain": [
       "'nx.draw(H, pos2, with_labels=True,\\n        nodelist = custom_node_color2.keys(),\\n        node_color = list(custom_node_color.values()),\\n        node_size = list(custom_node_size.values()),\\n        edge_list = custom_edge_color.keys(),\\n        edge_color = custom_edge_color.values()\\n        )'"
      ]
     },
     "execution_count": 38,
     "metadata": {},
     "output_type": "execute_result"
    }
   ],
   "source": [
    "while candidates_nodes :\n",
    "    candidates_nodes = sorted(set(candidates_nodes))\n",
    "    temp_candidate_node = candidates_nodes.copy()\n",
    "    shuffle(temp_candidate_node)\n",
    "    for x in temp_candidate_node:\n",
    "\n",
    "        if not x in (discarded_nodes + tree_nodes) :\n",
    "            temp = tree_nodes.copy()\n",
    "            temp.append(x)\n",
    "            I = H.subgraph(temp)\n",
    "\n",
    "            if nx.is_tree(I) :\n",
    "                tree_nodes.append(x)\n",
    "                #custom_node_size[x] = 800\n",
    "                #custom_node_color[x] = 'blue'\n",
    "                neighbours = H.neighbors(x)\n",
    "                temp_list = [z for z in neighbours if z not in (tree_nodes + discarded_nodes)]\n",
    "                candidates_nodes.extend(temp_list)\n",
    "            else : \n",
    "                discarded_nodes.append(x)\n",
    "                #custom_node_color[x] = 'gray'\n",
    "        candidates_nodes.remove(x)\n",
    "\"\"\"nx.draw(H, pos2, with_labels=True,\n",
    "        nodelist = custom_node_color2.keys(),\n",
    "        node_color = list(custom_node_color.values()),\n",
    "        node_size = list(custom_node_size.values()),\n",
    "        edge_list = custom_edge_color.keys(),\n",
    "        edge_color = custom_edge_color.values()\n",
    "        )\"\"\""
   ]
  },
  {
   "cell_type": "code",
   "execution_count": 39,
   "metadata": {
    "collapsed": false,
    "scrolled": false
   },
   "outputs": [
    {
     "data": {
      "image/png": "[encoded data removed]",
      "text/plain": [
       "<matplotlib.figure.Figure at 0x110486208>"
      ]
     },
     "metadata": {},
     "output_type": "display_data"
    }
   ],
   "source": [
    "T = H.subgraph(tree_nodes)\n",
    "posTree=nx.nx_pydot.graphviz_layout(T)\n",
    "nx.draw(T, posTree, with_labels=True)"
   ]
  },
  {
   "cell_type": "code",
   "execution_count": 40,
   "metadata": {
    "collapsed": false
   },
   "outputs": [
    {
     "data": {
      "text/plain": [
       "[0, 5, 3, 1, 1]"
      ]
     },
     "execution_count": 40,
     "metadata": {},
     "output_type": "execute_result"
    }
   ],
   "source": [
    "nx.degree_histogram(T)"
   ]
  },
  {
   "cell_type": "code",
   "execution_count": 41,
   "metadata": {
    "collapsed": false
   },
   "outputs": [
    {
     "data": {
      "text/plain": [
       "10"
      ]
     },
     "execution_count": 41,
     "metadata": {},
     "output_type": "execute_result"
    }
   ],
   "source": [
    "len(T.nodes())"
   ]
  },
  {
   "cell_type": "code",
   "execution_count": 79,
   "metadata": {
    "collapsed": false,
    "scrolled": false
   },
   "outputs": [],
   "source": [
    "mat = inv_matrix_creation(colors)\n",
    "\n",
    "tree_color = {}\n",
    "tree_node_marginals = {}\n",
    "tree_edge_marginals = {}\n",
    "current_marginals_nodes = [x for x in T.nodes() if T.degree(x) is 1 and x is not current_node]\n",
    "computed_marginals_nodes = []\n",
    "\n",
    "for x in T.nodes():\n",
    "    if T.degree(x) is 1 and x is not current_node:\n",
    "        tree_color[x] = custom_node_color[x]\n",
    "        tree_node_marginals[x] = marginals[x]\n",
    "    else:\n",
    "        tree_color[x] = 'white'\n",
    "        "
   ]
  },
  {
   "cell_type": "code",
   "execution_count": 80,
   "metadata": {
    "collapsed": false
   },
   "outputs": [
    {
     "name": "stdout",
     "output_type": "stream",
     "text": [
      "[17, 4, 11, 14]\n",
      "[16, 12, 18, 6]\n",
      "[17, 4, 11, 14]\n",
      "dict_keys([(17, 16), (4, 12), (11, 18), (14, 6)])\n",
      "16 [(17, 16)]\n",
      "12 [(4, 12)]\n",
      "18 [(11, 18)]\n",
      "6 [(14, 6)]\n"
     ]
    },
    {
     "data": {
      "image/png": "[encoded data removed]",
      "text/plain": [
       "<matplotlib.figure.Figure at 0x10ea50da0>"
      ]
     },
     "metadata": {},
     "output_type": "display_data"
    }
   ],
   "source": [
    "iteration_marginals_nodes = current_marginals_nodes.copy()\n",
    "print(iteration_marginals_nodes)\n",
    "for x in iteration_marginals_nodes :\n",
    "    for y in T.neighbors(x) :        \n",
    "        if x not in (current_marginals_nodes, computed_marginals_nodes) :\n",
    "            tree_edge_marginals[(x,y)] = np.dot(tree_node_marginals[x],mat)\n",
    "    if y not in (current_marginals_nodes,current_node) :\n",
    "        current_marginals_nodes.append(y)\n",
    "    current_marginals_nodes.remove(x)\n",
    "    if x is not current_node : \n",
    "        computed_marginals_nodes.append(x)\n",
    "print(current_marginals_nodes)\n",
    "print(computed_marginals_nodes)\n",
    "print(tree_edge_marginals.keys())\n",
    "\n",
    "for x in current_marginals_nodes :\n",
    "    incoming_edges = [item for item in tree_edge_marginals.keys() if x in item]\n",
    "    print(x, incoming_edges)\n",
    "\n",
    "tree_color[current_node] = 'black'\n",
    "nx.draw(T, posTree, with_labels=True,\n",
    "        nodelist = list(tree_color.keys()),\n",
    "        node_color = list(tree_color.values())\n",
    "       )"
   ]
  },
  {
   "cell_type": "code",
   "execution_count": 44,
   "metadata": {
    "collapsed": false
   },
   "outputs": [
    {
     "data": {
      "text/plain": [
       "array([ 0.5,  0.5,  1. ])"
      ]
     },
     "execution_count": 44,
     "metadata": {},
     "output_type": "execute_result"
    }
   ],
   "source": [
    "np.dot([0.5,0.5,0],[[0,1,1],[1,0,1],[1,1,0]])"
   ]
  },
  {
   "cell_type": "code",
   "execution_count": 45,
   "metadata": {
    "collapsed": false
   },
   "outputs": [
    {
     "ename": "KeyError",
     "evalue": "(1, 13)",
     "output_type": "error",
     "traceback": [
      "\u001b[0;31m---------------------------------------------------------------------------\u001b[0m",
      "\u001b[0;31mKeyError\u001b[0m                                  Traceback (most recent call last)",
      "\u001b[0;32m<ipython-input-45-1ca78a1439ad>\u001b[0m in \u001b[0;36m<module>\u001b[0;34m()\u001b[0m\n\u001b[0;32m----> 1\u001b[0;31m \u001b[0mnp\u001b[0m\u001b[0;34m.\u001b[0m\u001b[0mmultiply\u001b[0m\u001b[0;34m(\u001b[0m\u001b[0mtree_edge_marginals\u001b[0m\u001b[0;34m[\u001b[0m\u001b[0;34m(\u001b[0m\u001b[0;36m1\u001b[0m\u001b[0;34m,\u001b[0m\u001b[0;36m13\u001b[0m\u001b[0;34m)\u001b[0m\u001b[0;34m]\u001b[0m\u001b[0;34m,\u001b[0m\u001b[0mtree_edge_marginals\u001b[0m\u001b[0;34m[\u001b[0m\u001b[0;34m(\u001b[0m\u001b[0;36m4\u001b[0m\u001b[0;34m,\u001b[0m\u001b[0;36m13\u001b[0m\u001b[0;34m)\u001b[0m\u001b[0;34m]\u001b[0m\u001b[0;34m,\u001b[0m\u001b[0mtree_edge_marginals\u001b[0m\u001b[0;34m[\u001b[0m\u001b[0;34m(\u001b[0m\u001b[0;36m7\u001b[0m\u001b[0;34m,\u001b[0m\u001b[0;36m3\u001b[0m\u001b[0;34m)\u001b[0m\u001b[0;34m]\u001b[0m\u001b[0;34m)\u001b[0m\u001b[0;34m\u001b[0m\u001b[0m\n\u001b[0m",
      "\u001b[0;31mKeyError\u001b[0m: (1, 13)"
     ]
    }
   ],
   "source": [
    "np.multiply(tree_edge_marginals[(1,13)],tree_edge_marginals[(4,13)],tree_edge_marginals[(7,3)])"
   ]
  },
  {
   "cell_type": "code",
   "execution_count": 46,
   "metadata": {
    "collapsed": false
   },
   "outputs": [
    {
     "data": {
      "text/plain": [
       "2"
      ]
     },
     "execution_count": 46,
     "metadata": {},
     "output_type": "execute_result"
    }
   ],
   "source": [
    "iteration_marginals_nodes = current_marginals_nodes.copy()\n",
    "for x in iteration_marginals_nodes :\n",
    "    for y in T.neighbors(x) :        \n",
    "        if x not in (current_marginals_nodes, computed_marginals_nodes,current_node) :\n",
    "            tree_edge_marginals[(x,y)] = np.dot(tree_node_marginals[x],mat)\n",
    "        if y not in (current_marginals_nodes,current_node) :\n",
    "            current_marginals_nodes.append(y)\n",
    "    current_marginals_nodes.remove(x)\n",
    "    if x is not current_node : \n",
    "        computed_marginals_nodes.append(x)\n",
    "print(current_marginals_nodes)\n",
    "print(computed_marginals_nodes)\n",
    "print(tree_edge_marginals.keys())\n",
    "\n",
    "for x in current_marginals_nodes :\n",
    "    incoming_edges = [item for item in tree_edge_marginals.keys() if x in item]\n",
    "    print(x, incoming_edges)\n",
    "\n",
    "tree_color[current_node] = 'black'\n",
    "nx.draw(T, posTree, with_labels=True,\n",
    "        nodelist = list(tree_color.keys()),\n",
    "        node_color = list(tree_color.values())\n",
    "       )\n"
   ]
  }
 ],
 "metadata": {
  "anaconda-cloud": {},
  "kernelspec": {
   "display_name": "Python [Root]",
   "language": "python",
   "name": "Python [Root]"
  },
  "language_info": {
   "codemirror_mode": {
    "name": "ipython",
    "version": 3
   },
   "file_extension": ".py",
   "mimetype": "text/x-python",
   "name": "python",
   "nbconvert_exporter": "python",
   "pygments_lexer": "ipython3",
   "version": "3.5.2"
  }
 },
 "nbformat": 4,
 "nbformat_minor": 0
}
