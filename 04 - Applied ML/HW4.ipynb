{
 "cells": [
  {
   "cell_type": "markdown",
   "metadata": {},
   "source": [
    "# Homework 4 : Applied Machine Learning"
   ]
  },
  {
   "cell_type": "code",
   "execution_count": 149,
   "metadata": {
    "collapsed": false
   },
   "outputs": [],
   "source": [
    "# imports\n",
    "import pandas as pd\n",
    "import numpy as np\n",
    "import matplotlib.pyplot as plt\n",
    "from sklearn.ensemble import RandomForestClassifier\n",
    "from sklearn.cross_validation import train_test_split\n",
    "import sklearn.cluster\n",
    "%matplotlib inline"
   ]
  },
  {
   "cell_type": "code",
   "execution_count": 150,
   "metadata": {
    "collapsed": false
   },
   "outputs": [
    {
     "data": {
      "text/html": [
       "<div>\n",
       "<table border=\"1\" class=\"dataframe\">\n",
       "  <thead>\n",
       "    <tr style=\"text-align: right;\">\n",
       "      <th></th>\n",
       "      <th>player</th>\n",
       "      <th>club</th>\n",
       "      <th>leagueCountry</th>\n",
       "      <th>birthday</th>\n",
       "      <th>height</th>\n",
       "      <th>weight</th>\n",
       "      <th>position</th>\n",
       "      <th>games</th>\n",
       "      <th>victories</th>\n",
       "      <th>ties</th>\n",
       "      <th>...</th>\n",
       "      <th>rater2</th>\n",
       "      <th>refNum</th>\n",
       "      <th>refCountry</th>\n",
       "      <th>Alpha_3</th>\n",
       "      <th>meanIAT</th>\n",
       "      <th>nIAT</th>\n",
       "      <th>seIAT</th>\n",
       "      <th>meanExp</th>\n",
       "      <th>nExp</th>\n",
       "      <th>seExp</th>\n",
       "    </tr>\n",
       "    <tr>\n",
       "      <th>playerShort</th>\n",
       "      <th></th>\n",
       "      <th></th>\n",
       "      <th></th>\n",
       "      <th></th>\n",
       "      <th></th>\n",
       "      <th></th>\n",
       "      <th></th>\n",
       "      <th></th>\n",
       "      <th></th>\n",
       "      <th></th>\n",
       "      <th></th>\n",
       "      <th></th>\n",
       "      <th></th>\n",
       "      <th></th>\n",
       "      <th></th>\n",
       "      <th></th>\n",
       "      <th></th>\n",
       "      <th></th>\n",
       "      <th></th>\n",
       "      <th></th>\n",
       "      <th></th>\n",
       "    </tr>\n",
       "  </thead>\n",
       "  <tbody>\n",
       "    <tr>\n",
       "      <th>lucas-wilchez</th>\n",
       "      <td>Lucas Wilchez</td>\n",
       "      <td>Real Zaragoza</td>\n",
       "      <td>Spain</td>\n",
       "      <td>31.08.1983</td>\n",
       "      <td>177.0</td>\n",
       "      <td>72.0</td>\n",
       "      <td>Attacking Midfielder</td>\n",
       "      <td>1</td>\n",
       "      <td>0</td>\n",
       "      <td>0</td>\n",
       "      <td>...</td>\n",
       "      <td>0.50</td>\n",
       "      <td>1</td>\n",
       "      <td>1</td>\n",
       "      <td>GRC</td>\n",
       "      <td>0.326391</td>\n",
       "      <td>712.0</td>\n",
       "      <td>0.000564</td>\n",
       "      <td>0.396000</td>\n",
       "      <td>750.0</td>\n",
       "      <td>0.002696</td>\n",
       "    </tr>\n",
       "    <tr>\n",
       "      <th>john-utaka</th>\n",
       "      <td>John Utaka</td>\n",
       "      <td>Montpellier HSC</td>\n",
       "      <td>France</td>\n",
       "      <td>08.01.1982</td>\n",
       "      <td>179.0</td>\n",
       "      <td>82.0</td>\n",
       "      <td>Right Winger</td>\n",
       "      <td>1</td>\n",
       "      <td>0</td>\n",
       "      <td>0</td>\n",
       "      <td>...</td>\n",
       "      <td>0.75</td>\n",
       "      <td>2</td>\n",
       "      <td>2</td>\n",
       "      <td>ZMB</td>\n",
       "      <td>0.203375</td>\n",
       "      <td>40.0</td>\n",
       "      <td>0.010875</td>\n",
       "      <td>-0.204082</td>\n",
       "      <td>49.0</td>\n",
       "      <td>0.061504</td>\n",
       "    </tr>\n",
       "    <tr>\n",
       "      <th>abdon-prats</th>\n",
       "      <td>Abdón Prats</td>\n",
       "      <td>RCD Mallorca</td>\n",
       "      <td>Spain</td>\n",
       "      <td>17.12.1992</td>\n",
       "      <td>181.0</td>\n",
       "      <td>79.0</td>\n",
       "      <td>NaN</td>\n",
       "      <td>1</td>\n",
       "      <td>0</td>\n",
       "      <td>1</td>\n",
       "      <td>...</td>\n",
       "      <td>NaN</td>\n",
       "      <td>3</td>\n",
       "      <td>3</td>\n",
       "      <td>ESP</td>\n",
       "      <td>0.369894</td>\n",
       "      <td>1785.0</td>\n",
       "      <td>0.000229</td>\n",
       "      <td>0.588297</td>\n",
       "      <td>1897.0</td>\n",
       "      <td>0.001002</td>\n",
       "    </tr>\n",
       "    <tr>\n",
       "      <th>pablo-mari</th>\n",
       "      <td>Pablo Marí</td>\n",
       "      <td>RCD Mallorca</td>\n",
       "      <td>Spain</td>\n",
       "      <td>31.08.1993</td>\n",
       "      <td>191.0</td>\n",
       "      <td>87.0</td>\n",
       "      <td>Center Back</td>\n",
       "      <td>1</td>\n",
       "      <td>1</td>\n",
       "      <td>0</td>\n",
       "      <td>...</td>\n",
       "      <td>NaN</td>\n",
       "      <td>3</td>\n",
       "      <td>3</td>\n",
       "      <td>ESP</td>\n",
       "      <td>0.369894</td>\n",
       "      <td>1785.0</td>\n",
       "      <td>0.000229</td>\n",
       "      <td>0.588297</td>\n",
       "      <td>1897.0</td>\n",
       "      <td>0.001002</td>\n",
       "    </tr>\n",
       "    <tr>\n",
       "      <th>ruben-pena</th>\n",
       "      <td>Rubén Peña</td>\n",
       "      <td>Real Valladolid</td>\n",
       "      <td>Spain</td>\n",
       "      <td>18.07.1991</td>\n",
       "      <td>172.0</td>\n",
       "      <td>70.0</td>\n",
       "      <td>Right Midfielder</td>\n",
       "      <td>1</td>\n",
       "      <td>1</td>\n",
       "      <td>0</td>\n",
       "      <td>...</td>\n",
       "      <td>NaN</td>\n",
       "      <td>3</td>\n",
       "      <td>3</td>\n",
       "      <td>ESP</td>\n",
       "      <td>0.369894</td>\n",
       "      <td>1785.0</td>\n",
       "      <td>0.000229</td>\n",
       "      <td>0.588297</td>\n",
       "      <td>1897.0</td>\n",
       "      <td>0.001002</td>\n",
       "    </tr>\n",
       "  </tbody>\n",
       "</table>\n",
       "<p>5 rows × 27 columns</p>\n",
       "</div>"
      ],
      "text/plain": [
       "                      player             club leagueCountry    birthday  \\\n",
       "playerShort                                                               \n",
       "lucas-wilchez  Lucas Wilchez    Real Zaragoza         Spain  31.08.1983   \n",
       "john-utaka        John Utaka  Montpellier HSC        France  08.01.1982   \n",
       "abdon-prats      Abdón Prats     RCD Mallorca         Spain  17.12.1992   \n",
       "pablo-mari        Pablo Marí     RCD Mallorca         Spain  31.08.1993   \n",
       "ruben-pena        Rubén Peña  Real Valladolid         Spain  18.07.1991   \n",
       "\n",
       "               height  weight              position  games  victories  ties  \\\n",
       "playerShort                                                                   \n",
       "lucas-wilchez   177.0    72.0  Attacking Midfielder      1          0     0   \n",
       "john-utaka      179.0    82.0          Right Winger      1          0     0   \n",
       "abdon-prats     181.0    79.0                   NaN      1          0     1   \n",
       "pablo-mari      191.0    87.0           Center Back      1          1     0   \n",
       "ruben-pena      172.0    70.0      Right Midfielder      1          1     0   \n",
       "\n",
       "                 ...     rater2  refNum  refCountry  Alpha_3   meanIAT  \\\n",
       "playerShort      ...                                                     \n",
       "lucas-wilchez    ...       0.50       1           1      GRC  0.326391   \n",
       "john-utaka       ...       0.75       2           2      ZMB  0.203375   \n",
       "abdon-prats      ...        NaN       3           3      ESP  0.369894   \n",
       "pablo-mari       ...        NaN       3           3      ESP  0.369894   \n",
       "ruben-pena       ...        NaN       3           3      ESP  0.369894   \n",
       "\n",
       "                 nIAT     seIAT   meanExp    nExp     seExp  \n",
       "playerShort                                                  \n",
       "lucas-wilchez   712.0  0.000564  0.396000   750.0  0.002696  \n",
       "john-utaka       40.0  0.010875 -0.204082    49.0  0.061504  \n",
       "abdon-prats    1785.0  0.000229  0.588297  1897.0  0.001002  \n",
       "pablo-mari     1785.0  0.000229  0.588297  1897.0  0.001002  \n",
       "ruben-pena     1785.0  0.000229  0.588297  1897.0  0.001002  \n",
       "\n",
       "[5 rows x 27 columns]"
      ]
     },
     "execution_count": 150,
     "metadata": {},
     "output_type": "execute_result"
    }
   ],
   "source": [
    "# import data\n",
    "df = pd.read_csv('CrowdstormingDataJuly1st.csv', index_col=0)\n",
    "df.head()"
   ]
  },
  {
   "cell_type": "code",
   "execution_count": 151,
   "metadata": {
    "collapsed": false
   },
   "outputs": [
    {
     "data": {
      "text/plain": [
       "player               0\n",
       "club                 0\n",
       "leagueCountry        0\n",
       "birthday             0\n",
       "height             263\n",
       "weight            2243\n",
       "position         17726\n",
       "games                0\n",
       "victories            0\n",
       "ties                 0\n",
       "defeats              0\n",
       "goals                0\n",
       "yellowCards          0\n",
       "yellowReds           0\n",
       "redCards             0\n",
       "photoID          21407\n",
       "rater1           21407\n",
       "rater2           21407\n",
       "refNum               0\n",
       "refCountry           0\n",
       "Alpha_3              1\n",
       "meanIAT            163\n",
       "nIAT               163\n",
       "seIAT              163\n",
       "meanExp            163\n",
       "nExp               163\n",
       "seExp              163\n",
       "dtype: int64"
      ]
     },
     "execution_count": 151,
     "metadata": {},
     "output_type": "execute_result"
    }
   ],
   "source": [
    "df.isnull().sum()"
   ]
  },
  {
   "cell_type": "markdown",
   "metadata": {},
   "source": [
    "We can see that we still have missing values in these fields:\n",
    "* height\n",
    "* weight\n",
    "* position\n",
    "* photoID\n",
    "* rater1\n",
    "* rater2\n",
    "* meanIAT\n",
    "* nIAT\n",
    "* meanExp\n",
    "* nExp\n",
    "* seExp\n",
    "\n",
    "IAT and Exp features are exogenous to the players, we won't include it in the player description for Part.1 \n",
    "rater1 and rater2 missing entries come from the missing photos, we can simply drop the corresponding lines.\n",
    "Weight and height was dropped as well as it corresponded to only 24 unique players (in the worst case) out of 1585.\n",
    "The missing position was handled by the dummy encoding of this variable"
   ]
  },
  {
   "cell_type": "code",
   "execution_count": 152,
   "metadata": {
    "collapsed": false
   },
   "outputs": [
    {
     "data": {
      "text/html": [
       "<div>\n",
       "<table border=\"1\" class=\"dataframe\">\n",
       "  <thead>\n",
       "    <tr style=\"text-align: right;\">\n",
       "      <th></th>\n",
       "      <th>ties</th>\n",
       "      <th>rater2</th>\n",
       "      <th>rater1</th>\n",
       "      <th>defeats</th>\n",
       "      <th>goals</th>\n",
       "      <th>games</th>\n",
       "      <th>weight</th>\n",
       "      <th>victories</th>\n",
       "      <th>redCards</th>\n",
       "      <th>height</th>\n",
       "      <th>...</th>\n",
       "      <th>position_Center Midfielder</th>\n",
       "      <th>position_Defensive Midfielder</th>\n",
       "      <th>position_Goalkeeper</th>\n",
       "      <th>position_Left Fullback</th>\n",
       "      <th>position_Left Midfielder</th>\n",
       "      <th>position_Left Winger</th>\n",
       "      <th>position_Right Fullback</th>\n",
       "      <th>position_Right Midfielder</th>\n",
       "      <th>position_Right Winger</th>\n",
       "      <th>position_nan</th>\n",
       "    </tr>\n",
       "    <tr>\n",
       "      <th>playerShort</th>\n",
       "      <th></th>\n",
       "      <th></th>\n",
       "      <th></th>\n",
       "      <th></th>\n",
       "      <th></th>\n",
       "      <th></th>\n",
       "      <th></th>\n",
       "      <th></th>\n",
       "      <th></th>\n",
       "      <th></th>\n",
       "      <th></th>\n",
       "      <th></th>\n",
       "      <th></th>\n",
       "      <th></th>\n",
       "      <th></th>\n",
       "      <th></th>\n",
       "      <th></th>\n",
       "      <th></th>\n",
       "      <th></th>\n",
       "      <th></th>\n",
       "      <th></th>\n",
       "    </tr>\n",
       "  </thead>\n",
       "  <tbody>\n",
       "    <tr>\n",
       "      <th>aaron-hughes</th>\n",
       "      <td>179</td>\n",
       "      <td>0.00</td>\n",
       "      <td>0.25</td>\n",
       "      <td>228</td>\n",
       "      <td>9</td>\n",
       "      <td>654</td>\n",
       "      <td>71.0</td>\n",
       "      <td>247</td>\n",
       "      <td>0</td>\n",
       "      <td>182.0</td>\n",
       "      <td>...</td>\n",
       "      <td>0.0</td>\n",
       "      <td>0.0</td>\n",
       "      <td>0.0</td>\n",
       "      <td>0.0</td>\n",
       "      <td>0.0</td>\n",
       "      <td>0.0</td>\n",
       "      <td>0.0</td>\n",
       "      <td>0.0</td>\n",
       "      <td>0.0</td>\n",
       "      <td>0.0</td>\n",
       "    </tr>\n",
       "    <tr>\n",
       "      <th>aaron-hunt</th>\n",
       "      <td>73</td>\n",
       "      <td>0.25</td>\n",
       "      <td>0.00</td>\n",
       "      <td>122</td>\n",
       "      <td>62</td>\n",
       "      <td>336</td>\n",
       "      <td>73.0</td>\n",
       "      <td>141</td>\n",
       "      <td>1</td>\n",
       "      <td>183.0</td>\n",
       "      <td>...</td>\n",
       "      <td>0.0</td>\n",
       "      <td>0.0</td>\n",
       "      <td>0.0</td>\n",
       "      <td>0.0</td>\n",
       "      <td>0.0</td>\n",
       "      <td>0.0</td>\n",
       "      <td>0.0</td>\n",
       "      <td>0.0</td>\n",
       "      <td>0.0</td>\n",
       "      <td>0.0</td>\n",
       "    </tr>\n",
       "    <tr>\n",
       "      <th>aaron-lennon</th>\n",
       "      <td>97</td>\n",
       "      <td>0.25</td>\n",
       "      <td>0.25</td>\n",
       "      <td>115</td>\n",
       "      <td>31</td>\n",
       "      <td>412</td>\n",
       "      <td>63.0</td>\n",
       "      <td>200</td>\n",
       "      <td>0</td>\n",
       "      <td>165.0</td>\n",
       "      <td>...</td>\n",
       "      <td>0.0</td>\n",
       "      <td>0.0</td>\n",
       "      <td>0.0</td>\n",
       "      <td>0.0</td>\n",
       "      <td>0.0</td>\n",
       "      <td>0.0</td>\n",
       "      <td>0.0</td>\n",
       "      <td>1.0</td>\n",
       "      <td>0.0</td>\n",
       "      <td>0.0</td>\n",
       "    </tr>\n",
       "    <tr>\n",
       "      <th>aaron-ramsey</th>\n",
       "      <td>42</td>\n",
       "      <td>0.00</td>\n",
       "      <td>0.00</td>\n",
       "      <td>68</td>\n",
       "      <td>39</td>\n",
       "      <td>260</td>\n",
       "      <td>76.0</td>\n",
       "      <td>150</td>\n",
       "      <td>1</td>\n",
       "      <td>178.0</td>\n",
       "      <td>...</td>\n",
       "      <td>1.0</td>\n",
       "      <td>0.0</td>\n",
       "      <td>0.0</td>\n",
       "      <td>0.0</td>\n",
       "      <td>0.0</td>\n",
       "      <td>0.0</td>\n",
       "      <td>0.0</td>\n",
       "      <td>0.0</td>\n",
       "      <td>0.0</td>\n",
       "      <td>0.0</td>\n",
       "    </tr>\n",
       "    <tr>\n",
       "      <th>abdelhamid-el-kaoutari</th>\n",
       "      <td>40</td>\n",
       "      <td>0.25</td>\n",
       "      <td>0.25</td>\n",
       "      <td>43</td>\n",
       "      <td>1</td>\n",
       "      <td>124</td>\n",
       "      <td>73.0</td>\n",
       "      <td>41</td>\n",
       "      <td>2</td>\n",
       "      <td>180.0</td>\n",
       "      <td>...</td>\n",
       "      <td>0.0</td>\n",
       "      <td>0.0</td>\n",
       "      <td>0.0</td>\n",
       "      <td>0.0</td>\n",
       "      <td>0.0</td>\n",
       "      <td>0.0</td>\n",
       "      <td>0.0</td>\n",
       "      <td>0.0</td>\n",
       "      <td>0.0</td>\n",
       "      <td>0.0</td>\n",
       "    </tr>\n",
       "  </tbody>\n",
       "</table>\n",
       "<p>5 rows × 30 columns</p>\n",
       "</div>"
      ],
      "text/plain": [
       "                        ties  rater2  rater1  defeats  goals  games  weight  \\\n",
       "playerShort                                                                   \n",
       "aaron-hughes             179    0.00    0.25      228      9    654    71.0   \n",
       "aaron-hunt                73    0.25    0.00      122     62    336    73.0   \n",
       "aaron-lennon              97    0.25    0.25      115     31    412    63.0   \n",
       "aaron-ramsey              42    0.00    0.00       68     39    260    76.0   \n",
       "abdelhamid-el-kaoutari    40    0.25    0.25       43      1    124    73.0   \n",
       "\n",
       "                        victories  redCards  height      ...       \\\n",
       "playerShort                                              ...        \n",
       "aaron-hughes                  247         0   182.0      ...        \n",
       "aaron-hunt                    141         1   183.0      ...        \n",
       "aaron-lennon                  200         0   165.0      ...        \n",
       "aaron-ramsey                  150         1   178.0      ...        \n",
       "abdelhamid-el-kaoutari         41         2   180.0      ...        \n",
       "\n",
       "                        position_Center Midfielder  \\\n",
       "playerShort                                          \n",
       "aaron-hughes                                   0.0   \n",
       "aaron-hunt                                     0.0   \n",
       "aaron-lennon                                   0.0   \n",
       "aaron-ramsey                                   1.0   \n",
       "abdelhamid-el-kaoutari                         0.0   \n",
       "\n",
       "                        position_Defensive Midfielder  position_Goalkeeper  \\\n",
       "playerShort                                                                  \n",
       "aaron-hughes                                      0.0                  0.0   \n",
       "aaron-hunt                                        0.0                  0.0   \n",
       "aaron-lennon                                      0.0                  0.0   \n",
       "aaron-ramsey                                      0.0                  0.0   \n",
       "abdelhamid-el-kaoutari                            0.0                  0.0   \n",
       "\n",
       "                        position_Left Fullback  position_Left Midfielder  \\\n",
       "playerShort                                                                \n",
       "aaron-hughes                               0.0                       0.0   \n",
       "aaron-hunt                                 0.0                       0.0   \n",
       "aaron-lennon                               0.0                       0.0   \n",
       "aaron-ramsey                               0.0                       0.0   \n",
       "abdelhamid-el-kaoutari                     0.0                       0.0   \n",
       "\n",
       "                        position_Left Winger  position_Right Fullback  \\\n",
       "playerShort                                                             \n",
       "aaron-hughes                             0.0                      0.0   \n",
       "aaron-hunt                               0.0                      0.0   \n",
       "aaron-lennon                             0.0                      0.0   \n",
       "aaron-ramsey                             0.0                      0.0   \n",
       "abdelhamid-el-kaoutari                   0.0                      0.0   \n",
       "\n",
       "                        position_Right Midfielder  position_Right Winger  \\\n",
       "playerShort                                                                \n",
       "aaron-hughes                                  0.0                    0.0   \n",
       "aaron-hunt                                    0.0                    0.0   \n",
       "aaron-lennon                                  1.0                    0.0   \n",
       "aaron-ramsey                                  0.0                    0.0   \n",
       "abdelhamid-el-kaoutari                        0.0                    0.0   \n",
       "\n",
       "                        position_nan  \n",
       "playerShort                           \n",
       "aaron-hughes                     0.0  \n",
       "aaron-hunt                       0.0  \n",
       "aaron-lennon                     0.0  \n",
       "aaron-ramsey                     0.0  \n",
       "abdelhamid-el-kaoutari           0.0  \n",
       "\n",
       "[5 rows x 30 columns]"
      ]
     },
     "execution_count": 152,
     "metadata": {},
     "output_type": "execute_result"
    }
   ],
   "source": [
    "# drop rows for which we have no photo (and thus no skin rating)\n",
    "df.dropna(subset=['rater1', 'rater2', 'weight', 'height'], inplace=True)\n",
    "\n",
    "# group by players\n",
    "group_by_players = df.groupby(level=0)\n",
    "\n",
    "# build the data used for later analysis\n",
    "\n",
    "# for league country, keep only the one that appears the most for one player\n",
    "player_description = group_by_players.agg({'leagueCountry': lambda x: x.value_counts().index[0],\n",
    "                                           'position': 'first',\n",
    "                                           'height': 'mean', \n",
    "                                           'weight': 'mean',\n",
    "                                           'games': 'sum',\n",
    "                                           'victories': 'sum',\n",
    "                                           'ties': 'sum',\n",
    "                                           'defeats': 'sum',\n",
    "                                           'goals': 'sum',\n",
    "                                           'yellowCards': 'sum',\n",
    "                                           'yellowReds': 'sum',\n",
    "                                           'redCards': 'sum',\n",
    "                                           'rater1': 'first',\n",
    "                                           'rater2': 'first'\n",
    "                                          })\n",
    "\n",
    "# dummy encoding of the categorical variables with handling of missing values\n",
    "player_description = pd.get_dummies(player_description, dummy_na= True, columns = ['leagueCountry', 'position'])\n",
    "player_description.head()"
   ]
  },
  {
   "cell_type": "code",
   "execution_count": 153,
   "metadata": {
    "collapsed": false
   },
   "outputs": [],
   "source": [
    "# labels\n",
    "player_rating = player_description['rater1']\n",
    "\n",
    "player_description.drop(['rater1', 'rater2'], axis=1, inplace=True)\n"
   ]
  },
  {
   "cell_type": "markdown",
   "metadata": {},
   "source": [
    "## Training the classifier"
   ]
  },
  {
   "cell_type": "code",
   "execution_count": 154,
   "metadata": {
    "collapsed": false
   },
   "outputs": [
    {
     "data": {
      "image/png": "[encoded data removed]",
      "text/plain": [
       "<matplotlib.figure.Figure at 0x2682035ecc0>"
      ]
     },
     "metadata": {},
     "output_type": "display_data"
    }
   ],
   "source": [
    "import warnings\n",
    "warnings.filterwarnings('ignore')\n",
    "\n",
    "X = player_description.as_matrix()\n",
    "y = (player_rating*4).as_matrix()\n",
    "X_train, X_test, y_train, y_test = train_test_split(X, y, test_size=0.4, random_state=0)\n",
    "tr_accuracy = []\n",
    "te_accuracy = []\n",
    "cross = []\n",
    "for n in [20]:\n",
    "    for d in range(1,30):\n",
    "        model = RandomForestClassifier(n_estimators=n, max_depth=d)\n",
    "        c = sklearn.cross_validation.cross_val_score(model, X, y, cv=20, scoring='f1_weighted')\n",
    "        cross.append(np.mean(c)*100)\n",
    "        model.fit(X_train, y_train)\n",
    "\n",
    "        te_pred = model.predict(X_test)\n",
    "        tr_pred = model.predict(X_train)\n",
    "\n",
    "        tr_acc = sklearn.metrics.f1_score(tr_pred, y_train, average='weighted')*100\n",
    "\n",
    "        te_acc = sklearn.metrics.f1_score(te_pred, y_test, average='weighted')*100\n",
    "\n",
    "        tr_accuracy.append(tr_acc)\n",
    "        te_accuracy.append(te_acc)\n",
    "plt.figure(figsize=(12,6))    \n",
    "plt.plot(range(1,30), tr_accuracy, label='Training accuracy')\n",
    "plt.plot(range(1,30), te_accuracy, label='Test accuracy');\n",
    "plt.plot(range(1,30), cross, label='Validation accuracy');\n",
    "plt.ylabel('Accuracy %')\n",
    "plt.xlabel('Max depth of the tree')\n",
    "plt.legend(bbox_to_anchor=(1.2, 1));"
   ]
  },
  {
   "cell_type": "markdown",
   "metadata": {
    "collapsed": false
   },
   "source": [
    "### Effect of the parameters on the classifier\n",
    "Several parameters were tried for the classifier, only the max depth of the tree is shown above. As we can see using cross-validation mitigated the over-fitting effect"
   ]
  },
  {
   "cell_type": "markdown",
   "metadata": {
    "collapsed": true
   },
   "source": [
    "### Feature Importance"
   ]
  },
  {
   "cell_type": "code",
   "execution_count": 155,
   "metadata": {
    "collapsed": false,
    "scrolled": true
   },
   "outputs": [
    {
     "name": "stdout",
     "output_type": "stream",
     "text": [
      "1. feature victories (0.102189)\n",
      "2. feature games (0.096787)\n",
      "3. feature goals (0.093810)\n",
      "4. feature yellowCards (0.093580)\n",
      "5. feature weight (0.092289)\n",
      "6. feature defeats (0.091809)\n",
      "7. feature height (0.091559)\n",
      "8. feature ties (0.089797)\n",
      "9. feature yellowReds (0.041995)\n",
      "10. feature redCards (0.041113)\n",
      "11. feature leagueCountry_France (0.020728)\n",
      "12. feature leagueCountry_Spain (0.011990)\n",
      "13. feature position_Center Forward (0.011875)\n",
      "14. feature leagueCountry_England (0.011405)\n",
      "15. feature leagueCountry_Germany (0.010695)\n",
      "16. feature position_Defensive Midfielder (0.010547)\n",
      "17. feature position_nan (0.010240)\n",
      "18. feature position_Center Back (0.009904)\n",
      "19. feature position_Right Fullback (0.009627)\n",
      "20. feature position_Right Winger (0.009477)\n",
      "21. feature position_Attacking Midfielder (0.009077)\n",
      "22. feature position_Left Fullback (0.008699)\n",
      "23. feature position_Goalkeeper (0.007807)\n",
      "24. feature position_Right Midfielder (0.007497)\n",
      "25. feature position_Left Midfielder (0.006182)\n",
      "26. feature position_Left Winger (0.005738)\n",
      "27. feature position_Center Midfielder (0.003585)\n",
      "28. feature leagueCountry_nan (0.000000)\n"
     ]
    }
   ],
   "source": [
    "importances = model.feature_importances_\n",
    "std = np.std([tree.feature_importances_ for tree in model.estimators_],\n",
    "             axis=0)\n",
    "indices = np.argsort(importances)[::-1]\n",
    "\n",
    "col = player_description.columns\n",
    "\n",
    "for f in range(X.shape[1]):\n",
    "    print(\"%d. feature %s (%f)\" % (f + 1, col[indices[f]], importances[indices[f]]))\n"
   ]
  },
  {
   "cell_type": "code",
   "execution_count": 156,
   "metadata": {
    "collapsed": false
   },
   "outputs": [
    {
     "data": {
      "image/png": "[encoded data removed]",
      "text/plain": [
       "<matplotlib.figure.Figure at 0x26820320828>"
      ]
     },
     "metadata": {},
     "output_type": "display_data"
    }
   ],
   "source": [
    "# Plot the feature importances of the forest\n",
    "plt.figure(figsize=(10,5))\n",
    "plt.title(\"Feature importances\")\n",
    "plt.bar(range(X.shape[1]), importances[indices],\n",
    "       color=\"r\", yerr=std[indices],  align='center')\n",
    "plt.xticks(range(X.shape[1]), col[indices], rotation=90)\n",
    "plt.xlim([-1, X.shape[1]])\n",
    "plt.show()"
   ]
  },
  {
   "cell_type": "markdown",
   "metadata": {},
   "source": [
    "We can see that 8 features seem to emerge from the rest. In that order: weight, defeats, victories, yellow cards, games, height, ties and goals are the most important. Ties and yellow reds follow while the league country and the position seem to be non informative"
   ]
  },
  {
   "cell_type": "markdown",
   "metadata": {},
   "source": [
    "### Experiments with different features\n",
    "We try to fit the model with different subsets of the data and see the evolution of the feature importance ranking"
   ]
  },
  {
   "cell_type": "code",
   "execution_count": 157,
   "metadata": {
    "collapsed": false
   },
   "outputs": [
    {
     "name": "stdout",
     "output_type": "stream",
     "text": [
      "Training accuracy: 75.78, Test accuracy: 39.15\n"
     ]
    }
   ],
   "source": [
    "subset_cols = col[indices[0:8]]\n",
    "player_description_subset = player_description[list(subset_cols)]\n",
    "\n",
    "X_subset = player_description_subset.as_matrix()\n",
    "X_train, X_test, y_train, y_test = train_test_split(X_subset, y, test_size=0.3)\n",
    "\n",
    "\n",
    "model2 = RandomForestClassifier(n_estimators=20, max_depth=10)\n",
    "model2.fit(X_train, y_train)\n",
    "\n",
    "te_pred = model2.predict(X_test)\n",
    "tr_pred = model2.predict(X_train)\n",
    "\n",
    "tr_acc = tr_pred == y_train\n",
    "tr_acc = np.sum(tr_acc)/len(tr_acc) * 100\n",
    "\n",
    "te_acc = te_pred == y_test\n",
    "te_acc = np.sum(te_acc)/len(te_acc) * 100\n",
    "print('Training accuracy: %.2f, Test accuracy: %.2f' % (tr_acc, te_acc))"
   ]
  },
  {
   "cell_type": "code",
   "execution_count": 158,
   "metadata": {
    "collapsed": false
   },
   "outputs": [
    {
     "data": {
      "text/html": [
       "<div>\n",
       "<table border=\"1\" class=\"dataframe\">\n",
       "  <thead>\n",
       "    <tr style=\"text-align: right;\">\n",
       "      <th></th>\n",
       "      <th>victories</th>\n",
       "      <th>games</th>\n",
       "      <th>goals</th>\n",
       "      <th>yellowCards</th>\n",
       "      <th>weight</th>\n",
       "      <th>defeats</th>\n",
       "      <th>height</th>\n",
       "      <th>ties</th>\n",
       "    </tr>\n",
       "    <tr>\n",
       "      <th>playerShort</th>\n",
       "      <th></th>\n",
       "      <th></th>\n",
       "      <th></th>\n",
       "      <th></th>\n",
       "      <th></th>\n",
       "      <th></th>\n",
       "      <th></th>\n",
       "      <th></th>\n",
       "    </tr>\n",
       "  </thead>\n",
       "  <tbody>\n",
       "    <tr>\n",
       "      <th>aaron-hughes</th>\n",
       "      <td>247</td>\n",
       "      <td>654</td>\n",
       "      <td>9</td>\n",
       "      <td>19</td>\n",
       "      <td>71.0</td>\n",
       "      <td>228</td>\n",
       "      <td>182.0</td>\n",
       "      <td>179</td>\n",
       "    </tr>\n",
       "    <tr>\n",
       "      <th>aaron-hunt</th>\n",
       "      <td>141</td>\n",
       "      <td>336</td>\n",
       "      <td>62</td>\n",
       "      <td>42</td>\n",
       "      <td>73.0</td>\n",
       "      <td>122</td>\n",
       "      <td>183.0</td>\n",
       "      <td>73</td>\n",
       "    </tr>\n",
       "    <tr>\n",
       "      <th>aaron-lennon</th>\n",
       "      <td>200</td>\n",
       "      <td>412</td>\n",
       "      <td>31</td>\n",
       "      <td>11</td>\n",
       "      <td>63.0</td>\n",
       "      <td>115</td>\n",
       "      <td>165.0</td>\n",
       "      <td>97</td>\n",
       "    </tr>\n",
       "    <tr>\n",
       "      <th>aaron-ramsey</th>\n",
       "      <td>150</td>\n",
       "      <td>260</td>\n",
       "      <td>39</td>\n",
       "      <td>31</td>\n",
       "      <td>76.0</td>\n",
       "      <td>68</td>\n",
       "      <td>178.0</td>\n",
       "      <td>42</td>\n",
       "    </tr>\n",
       "    <tr>\n",
       "      <th>abdelhamid-el-kaoutari</th>\n",
       "      <td>41</td>\n",
       "      <td>124</td>\n",
       "      <td>1</td>\n",
       "      <td>8</td>\n",
       "      <td>73.0</td>\n",
       "      <td>43</td>\n",
       "      <td>180.0</td>\n",
       "      <td>40</td>\n",
       "    </tr>\n",
       "  </tbody>\n",
       "</table>\n",
       "</div>"
      ],
      "text/plain": [
       "                        victories  games  goals  yellowCards  weight  defeats  \\\n",
       "playerShort                                                                     \n",
       "aaron-hughes                  247    654      9           19    71.0      228   \n",
       "aaron-hunt                    141    336     62           42    73.0      122   \n",
       "aaron-lennon                  200    412     31           11    63.0      115   \n",
       "aaron-ramsey                  150    260     39           31    76.0       68   \n",
       "abdelhamid-el-kaoutari         41    124      1            8    73.0       43   \n",
       "\n",
       "                        height  ties  \n",
       "playerShort                           \n",
       "aaron-hughes             182.0   179  \n",
       "aaron-hunt               183.0    73  \n",
       "aaron-lennon             165.0    97  \n",
       "aaron-ramsey             178.0    42  \n",
       "abdelhamid-el-kaoutari   180.0    40  "
      ]
     },
     "execution_count": 158,
     "metadata": {},
     "output_type": "execute_result"
    }
   ],
   "source": [
    "player_description_subset.head()"
   ]
  },
  {
   "cell_type": "code",
   "execution_count": 159,
   "metadata": {
    "collapsed": false
   },
   "outputs": [
    {
     "name": "stdout",
     "output_type": "stream",
     "text": [
      "1. feature victories (0.132322)\n",
      "2. feature yellowCards (0.129314)\n",
      "3. feature height (0.126061)\n",
      "4. feature games (0.125425)\n",
      "5. feature goals (0.125186)\n",
      "6. feature ties (0.123282)\n",
      "7. feature weight (0.121288)\n",
      "8. feature defeats (0.117122)\n"
     ]
    }
   ],
   "source": [
    "importances = model2.feature_importances_\n",
    "std = np.std([tree.feature_importances_ for tree in model2.estimators_],\n",
    "             axis=0)\n",
    "indices = np.argsort(importances)[::-1]\n",
    "\n",
    "col = player_description_subset.columns\n",
    "\n",
    "for f in range(X_subset.shape[1]):\n",
    "    print(\"%d. feature %s (%f)\" % (f + 1, col[indices[f]], importances[indices[f]]))\n"
   ]
  },
  {
   "cell_type": "code",
   "execution_count": 160,
   "metadata": {
    "collapsed": false
   },
   "outputs": [
    {
     "data": {
      "image/png": "[encoded data removed]",
      "text/plain": [
       "<matplotlib.figure.Figure at 0x2681da9cf60>"
      ]
     },
     "metadata": {},
     "output_type": "display_data"
    }
   ],
   "source": [
    "# Plot the feature importances of the forest\n",
    "plt.figure(figsize=(10,5))\n",
    "plt.title(\"Feature importances\")\n",
    "plt.bar(range(X_subset.shape[1]), importances[indices],\n",
    "       color=\"r\", yerr=std[indices],  align='center')\n",
    "plt.xticks(range(X_subset.shape[1]), col[indices], rotation=90)\n",
    "plt.xlim([-1, X_subset.shape[1]])\n",
    "plt.show()"
   ]
  },
  {
   "cell_type": "markdown",
   "metadata": {},
   "source": [
    "Observations.\n",
    "* by keeping only subsets of the 8 relevant features, we see that the exact ordering of the feature importance changes but the relative difference of importance is negligible. Thus we can conclude that there is not substantial difference in the feature importance."
   ]
  },
  {
   "cell_type": "markdown",
   "metadata": {
    "collapsed": true
   },
   "source": [
    "### Unsupervised learning : Data processing"
   ]
  },
  {
   "cell_type": "code",
   "execution_count": 201,
   "metadata": {
    "collapsed": false
   },
   "outputs": [],
   "source": [
    "basic = df[['meanIAT', 'nIAT', 'seIAT', 'meanExp', 'nExp', 'seExp']]\n",
    "basic.dropna(subset=['meanIAT', 'nIAT', 'seIAT', 'meanExp', 'nExp', 'seExp'], inplace=True)\n",
    "\n",
    "\n",
    "ref_basic = basic.groupby(level=0).mean()\n",
    "ref_basic.drop(['nIAT', 'nExp'], axis=1, inplace=True)\n",
    "\n",
    "df2 = df[['rater1', 'rater2']].groupby(df.index).first()\n",
    "df2['skin'] = df2.apply(lambda x: (x['rater1'] + x['rater2'])/2, axis=1)\n",
    "skin = df2['skin'] > 0.5"
   ]
  },
  {
   "cell_type": "code",
   "execution_count": 202,
   "metadata": {
    "collapsed": true
   },
   "outputs": [],
   "source": [
    "import warnings\n",
    "warnings.filterwarnings('ignore')\n",
    "\n",
    "df1 = df[['meanIAT', 'nIAT', 'seIAT', 'meanExp', 'nExp', 'seExp']]\n",
    "df1.dropna(subset=['meanIAT', 'nIAT', 'seIAT', 'meanExp', 'nExp', 'seExp'], inplace=True)\n",
    "\n",
    "df1['mIAT'] = df1.apply(lambda x: x.loc['meanIAT']*x.loc['nIAT'], axis=1)\n",
    "df1['sIAT'] = df1.apply(lambda x: x.loc['seIAT']*x.loc['nIAT'], axis=1)\n",
    "df1['mExp'] = df1.apply(lambda x: x.loc['meanExp']*x.loc['nExp'], axis=1)\n",
    "df1['sExp'] = df1.apply(lambda x: x.loc['seExp']*x.loc['nExp'], axis=1)\n",
    "\n",
    "group_player = df1.groupby(df1.index)\n",
    "\n",
    "ref = group_player.agg({'nIAT': 'sum',\n",
    "                        'mIAT': 'sum',\n",
    "                        'sIAT': 'sum',\n",
    "                        'nExp': 'sum',\n",
    "                        'mExp': 'sum',\n",
    "                        'sExp': 'sum'     \n",
    "    })\n",
    "\n",
    "ref['mIAT'] = ref['mIAT']/ref['nIAT']\n",
    "ref['mExp'] = ref['mExp']/ref['nExp']\n",
    "\n",
    "ref['sIAT'] = ref['sIAT']/ref['nExp']\n",
    "ref['sExp'] = ref['sExp']/ref['nExp']\n",
    "\n",
    "ref.drop(['nIAT', 'nExp'], axis=1, inplace=True)"
   ]
  },
  {
   "cell_type": "code",
   "execution_count": 203,
   "metadata": {
    "collapsed": false
   },
   "outputs": [],
   "source": [
    "def cluster(ref, col):\n",
    "\n",
    "    sil = []\n",
    "    f1 = []\n",
    "    feature = []\n",
    "    \n",
    "    for i in col:\n",
    "        for j in i:\n",
    "            kMean = sklearn.cluster.KMeans(n_clusters=2, init='k-means++', n_init=10).fit(ref[list(j)])\n",
    "            silhouette = sklearn.metrics.silhouette_score(ref[list(j)], kMean.labels_)\n",
    "            f1_score = max(sklearn.metrics.f1_score(skin, kMean.labels_, average='weighted'), sklearn.metrics.f1_score(~skin, kMean.labels_, average='weighted'))\n",
    "            sil.append(silhouette)\n",
    "            f1.append(f1_score)\n",
    "            feature.append(j)\n",
    "            \n",
    "    return sil, f1, feature"
   ]
  },
  {
   "cell_type": "code",
   "execution_count": 204,
   "metadata": {
    "collapsed": false
   },
   "outputs": [],
   "source": [
    "import itertools\n",
    "col = []\n",
    "for r in range(1,5):\n",
    "    col.append(list(itertools.combinations(ref.columns, r)))\n",
    "    \n",
    "col1 = []\n",
    "for r in range(1,5):\n",
    "    col1.append(list(itertools.combinations(ref_basic.columns, r)))\n",
    "\n",
    "sil_basic, f1_basic, feature_basic = cluster(ref_basic, col1)\n",
    "sil, f1, feature = cluster(ref, col)"
   ]
  },
  {
   "cell_type": "code",
   "execution_count": 205,
   "metadata": {
    "collapsed": false
   },
   "outputs": [
    {
     "data": {
      "image/png": "[encoded data removed]",
      "text/plain": [
       "<matplotlib.figure.Figure at 0x2681dba0358>"
      ]
     },
     "metadata": {},
     "output_type": "display_data"
    }
   ],
   "source": [
    "plt.figure(figsize=(10,5))\n",
    "plt.plot(range(15), sil_basic)\n",
    "plt.plot(range(15), f1_basic)\n",
    "plt.xticks(range(15),feature_basic, rotation='vertical');"
   ]
  },
  {
   "cell_type": "code",
   "execution_count": 206,
   "metadata": {
    "collapsed": false
   },
   "outputs": [
    {
     "data": {
      "image/png": "[encoded data removed]",
      "text/plain": [
       "<matplotlib.figure.Figure at 0x2681d1b5d30>"
      ]
     },
     "metadata": {},
     "output_type": "display_data"
    }
   ],
   "source": [
    "plt.figure(figsize=(10,5))\n",
    "plt.plot(range(15), sil)\n",
    "plt.plot(range(15), f1)\n",
    "plt.xticks(range(15),feature, rotation='vertical');"
   ]
  },
  {
   "cell_type": "code",
   "execution_count": 208,
   "metadata": {
    "collapsed": false
   },
   "outputs": [
    {
     "name": "stdout",
     "output_type": "stream",
     "text": [
      "playerShort\n",
      "aaron-hughes               True\n",
      "aaron-hunt                 True\n",
      "aaron-lennon               True\n",
      "aaron-ramsey               True\n",
      "abdelhamid-el-kaoutari     True\n",
      "abdou-traore_2            False\n",
      "abdoulaye-diallo_2        False\n",
      "abdoulaye-keita_2         False\n",
      "abdoulwhaid-sissoko       False\n",
      "abdul-rahman-baba         False\n",
      "abdul-razak               False\n",
      "abel-aguilar               True\n",
      "abelaziz-barrada           True\n",
      "abou-diaby                False\n",
      "adam-bodzek                True\n",
      "adam-federici              True\n",
      "adam-hlousek               True\n",
      "adam-johnson               True\n",
      "adam-pinter                True\n",
      "adam-smith_3               True\n",
      "adam-szalai                True\n",
      "adan                       True\n",
      "adel-taarabt               True\n",
      "adil-rami                  True\n",
      "adrian-colunga             True\n",
      "adrian-mutu                True\n",
      "adrian_2                   True\n",
      "adrian_7                   True\n",
      "adriano_24                 True\n",
      "adrien-rabiot              True\n",
      "                          ...  \n",
      "ximo                       True\n",
      "xisco_2                    True\n",
      "yacine-brahimi            False\n",
      "yann-mvila                 True\n",
      "yannick-djalo             False\n",
      "yannik-schulze             True\n",
      "yassine-benzia             True\n",
      "yassine-jebbour           False\n",
      "yaya-toure                False\n",
      "yoan-gouffran              True\n",
      "yoann-gourcuff             True\n",
      "yohan-cabaye               True\n",
      "yohandry-orozco            True\n",
      "yossi-benayoun             True\n",
      "younes-belhanda            True\n",
      "younes-kaboul              True\n",
      "youssef-el-arabi          False\n",
      "yunus-malli                True\n",
      "zdenk-pospch               True\n",
      "zdravko-kuzmanovic         True\n",
      "ze-castro                  True\n",
      "zhi-gin-lam                True\n",
      "zlatan-alomerovic          True\n",
      "zlatan-ibrahimovic         True\n",
      "zlatko-junuzovic           True\n",
      "zoltan-gera                True\n",
      "zoltan-stieber             True\n",
      "zoumana-camara            False\n",
      "zubikarai                  True\n",
      "zurutuza                   True\n",
      "Name: skin, dtype: bool\n"
     ]
    }
   ],
   "source": []
  },
  {
   "cell_type": "code",
   "execution_count": null,
   "metadata": {
    "collapsed": true
   },
   "outputs": [],
   "source": []
  }
 ],
 "metadata": {
  "anaconda-cloud": {},
  "kernelspec": {
   "display_name": "Python [Root]",
   "language": "python",
   "name": "Python [Root]"
  },
  "language_info": {
   "codemirror_mode": {
    "name": "ipython",
    "version": 3
   },
   "file_extension": ".py",
   "mimetype": "text/x-python",
   "name": "python",
   "nbconvert_exporter": "python",
   "pygments_lexer": "ipython3",
   "version": "3.5.2"
  }
 },
 "nbformat": 4,
 "nbformat_minor": 0
}
