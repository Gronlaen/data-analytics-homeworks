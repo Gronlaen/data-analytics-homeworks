{
 "cells": [
  {
   "cell_type": "markdown",
   "metadata": {},
   "source": [
    "# Homework 4 : Applied Machine Learning"
   ]
  },
  {
   "cell_type": "code",
   "execution_count": 58,
   "metadata": {
    "collapsed": false
   },
   "outputs": [],
   "source": [
    "# imports\n",
    "import pandas as pd\n",
    "import numpy as np\n",
    "import matplotlib.pyplot as plt\n",
    "from sklearn.ensemble import RandomForestClassifier\n",
    "from sklearn.cross_validation import train_test_split\n",
    "import sklearn.cluster\n",
    "%matplotlib inline"
   ]
  },
  {
   "cell_type": "code",
   "execution_count": 2,
   "metadata": {
    "collapsed": false
   },
   "outputs": [
    {
     "data": {
      "text/html": [
       "<div>\n",
       "<table border=\"1\" class=\"dataframe\">\n",
       "  <thead>\n",
       "    <tr style=\"text-align: right;\">\n",
       "      <th></th>\n",
       "      <th>player</th>\n",
       "      <th>club</th>\n",
       "      <th>leagueCountry</th>\n",
       "      <th>birthday</th>\n",
       "      <th>height</th>\n",
       "      <th>weight</th>\n",
       "      <th>position</th>\n",
       "      <th>games</th>\n",
       "      <th>victories</th>\n",
       "      <th>ties</th>\n",
       "      <th>...</th>\n",
       "      <th>rater2</th>\n",
       "      <th>refNum</th>\n",
       "      <th>refCountry</th>\n",
       "      <th>Alpha_3</th>\n",
       "      <th>meanIAT</th>\n",
       "      <th>nIAT</th>\n",
       "      <th>seIAT</th>\n",
       "      <th>meanExp</th>\n",
       "      <th>nExp</th>\n",
       "      <th>seExp</th>\n",
       "    </tr>\n",
       "    <tr>\n",
       "      <th>playerShort</th>\n",
       "      <th></th>\n",
       "      <th></th>\n",
       "      <th></th>\n",
       "      <th></th>\n",
       "      <th></th>\n",
       "      <th></th>\n",
       "      <th></th>\n",
       "      <th></th>\n",
       "      <th></th>\n",
       "      <th></th>\n",
       "      <th></th>\n",
       "      <th></th>\n",
       "      <th></th>\n",
       "      <th></th>\n",
       "      <th></th>\n",
       "      <th></th>\n",
       "      <th></th>\n",
       "      <th></th>\n",
       "      <th></th>\n",
       "      <th></th>\n",
       "      <th></th>\n",
       "    </tr>\n",
       "  </thead>\n",
       "  <tbody>\n",
       "    <tr>\n",
       "      <th>lucas-wilchez</th>\n",
       "      <td>Lucas Wilchez</td>\n",
       "      <td>Real Zaragoza</td>\n",
       "      <td>Spain</td>\n",
       "      <td>31.08.1983</td>\n",
       "      <td>177.0</td>\n",
       "      <td>72.0</td>\n",
       "      <td>Attacking Midfielder</td>\n",
       "      <td>1</td>\n",
       "      <td>0</td>\n",
       "      <td>0</td>\n",
       "      <td>...</td>\n",
       "      <td>0.50</td>\n",
       "      <td>1</td>\n",
       "      <td>1</td>\n",
       "      <td>GRC</td>\n",
       "      <td>0.326391</td>\n",
       "      <td>712.0</td>\n",
       "      <td>0.000564</td>\n",
       "      <td>0.396000</td>\n",
       "      <td>750.0</td>\n",
       "      <td>0.002696</td>\n",
       "    </tr>\n",
       "    <tr>\n",
       "      <th>john-utaka</th>\n",
       "      <td>John Utaka</td>\n",
       "      <td>Montpellier HSC</td>\n",
       "      <td>France</td>\n",
       "      <td>08.01.1982</td>\n",
       "      <td>179.0</td>\n",
       "      <td>82.0</td>\n",
       "      <td>Right Winger</td>\n",
       "      <td>1</td>\n",
       "      <td>0</td>\n",
       "      <td>0</td>\n",
       "      <td>...</td>\n",
       "      <td>0.75</td>\n",
       "      <td>2</td>\n",
       "      <td>2</td>\n",
       "      <td>ZMB</td>\n",
       "      <td>0.203375</td>\n",
       "      <td>40.0</td>\n",
       "      <td>0.010875</td>\n",
       "      <td>-0.204082</td>\n",
       "      <td>49.0</td>\n",
       "      <td>0.061504</td>\n",
       "    </tr>\n",
       "    <tr>\n",
       "      <th>abdon-prats</th>\n",
       "      <td>Abdón Prats</td>\n",
       "      <td>RCD Mallorca</td>\n",
       "      <td>Spain</td>\n",
       "      <td>17.12.1992</td>\n",
       "      <td>181.0</td>\n",
       "      <td>79.0</td>\n",
       "      <td>NaN</td>\n",
       "      <td>1</td>\n",
       "      <td>0</td>\n",
       "      <td>1</td>\n",
       "      <td>...</td>\n",
       "      <td>NaN</td>\n",
       "      <td>3</td>\n",
       "      <td>3</td>\n",
       "      <td>ESP</td>\n",
       "      <td>0.369894</td>\n",
       "      <td>1785.0</td>\n",
       "      <td>0.000229</td>\n",
       "      <td>0.588297</td>\n",
       "      <td>1897.0</td>\n",
       "      <td>0.001002</td>\n",
       "    </tr>\n",
       "    <tr>\n",
       "      <th>pablo-mari</th>\n",
       "      <td>Pablo Marí</td>\n",
       "      <td>RCD Mallorca</td>\n",
       "      <td>Spain</td>\n",
       "      <td>31.08.1993</td>\n",
       "      <td>191.0</td>\n",
       "      <td>87.0</td>\n",
       "      <td>Center Back</td>\n",
       "      <td>1</td>\n",
       "      <td>1</td>\n",
       "      <td>0</td>\n",
       "      <td>...</td>\n",
       "      <td>NaN</td>\n",
       "      <td>3</td>\n",
       "      <td>3</td>\n",
       "      <td>ESP</td>\n",
       "      <td>0.369894</td>\n",
       "      <td>1785.0</td>\n",
       "      <td>0.000229</td>\n",
       "      <td>0.588297</td>\n",
       "      <td>1897.0</td>\n",
       "      <td>0.001002</td>\n",
       "    </tr>\n",
       "    <tr>\n",
       "      <th>ruben-pena</th>\n",
       "      <td>Rubén Peña</td>\n",
       "      <td>Real Valladolid</td>\n",
       "      <td>Spain</td>\n",
       "      <td>18.07.1991</td>\n",
       "      <td>172.0</td>\n",
       "      <td>70.0</td>\n",
       "      <td>Right Midfielder</td>\n",
       "      <td>1</td>\n",
       "      <td>1</td>\n",
       "      <td>0</td>\n",
       "      <td>...</td>\n",
       "      <td>NaN</td>\n",
       "      <td>3</td>\n",
       "      <td>3</td>\n",
       "      <td>ESP</td>\n",
       "      <td>0.369894</td>\n",
       "      <td>1785.0</td>\n",
       "      <td>0.000229</td>\n",
       "      <td>0.588297</td>\n",
       "      <td>1897.0</td>\n",
       "      <td>0.001002</td>\n",
       "    </tr>\n",
       "  </tbody>\n",
       "</table>\n",
       "<p>5 rows × 27 columns</p>\n",
       "</div>"
      ],
      "text/plain": [
       "                      player             club leagueCountry    birthday  \\\n",
       "playerShort                                                               \n",
       "lucas-wilchez  Lucas Wilchez    Real Zaragoza         Spain  31.08.1983   \n",
       "john-utaka        John Utaka  Montpellier HSC        France  08.01.1982   \n",
       "abdon-prats      Abdón Prats     RCD Mallorca         Spain  17.12.1992   \n",
       "pablo-mari        Pablo Marí     RCD Mallorca         Spain  31.08.1993   \n",
       "ruben-pena        Rubén Peña  Real Valladolid         Spain  18.07.1991   \n",
       "\n",
       "               height  weight              position  games  victories  ties  \\\n",
       "playerShort                                                                   \n",
       "lucas-wilchez   177.0    72.0  Attacking Midfielder      1          0     0   \n",
       "john-utaka      179.0    82.0          Right Winger      1          0     0   \n",
       "abdon-prats     181.0    79.0                   NaN      1          0     1   \n",
       "pablo-mari      191.0    87.0           Center Back      1          1     0   \n",
       "ruben-pena      172.0    70.0      Right Midfielder      1          1     0   \n",
       "\n",
       "                 ...     rater2  refNum  refCountry  Alpha_3   meanIAT  \\\n",
       "playerShort      ...                                                     \n",
       "lucas-wilchez    ...       0.50       1           1      GRC  0.326391   \n",
       "john-utaka       ...       0.75       2           2      ZMB  0.203375   \n",
       "abdon-prats      ...        NaN       3           3      ESP  0.369894   \n",
       "pablo-mari       ...        NaN       3           3      ESP  0.369894   \n",
       "ruben-pena       ...        NaN       3           3      ESP  0.369894   \n",
       "\n",
       "                 nIAT     seIAT   meanExp    nExp     seExp  \n",
       "playerShort                                                  \n",
       "lucas-wilchez   712.0  0.000564  0.396000   750.0  0.002696  \n",
       "john-utaka       40.0  0.010875 -0.204082    49.0  0.061504  \n",
       "abdon-prats    1785.0  0.000229  0.588297  1897.0  0.001002  \n",
       "pablo-mari     1785.0  0.000229  0.588297  1897.0  0.001002  \n",
       "ruben-pena     1785.0  0.000229  0.588297  1897.0  0.001002  \n",
       "\n",
       "[5 rows x 27 columns]"
      ]
     },
     "execution_count": 2,
     "metadata": {},
     "output_type": "execute_result"
    }
   ],
   "source": [
    "# import data2\n",
    "df = pd.read_csv('CrowdstormingDataJuly1st.csv', index_col=0)\n",
    "df.head()"
   ]
  },
  {
   "cell_type": "code",
   "execution_count": 3,
   "metadata": {
    "collapsed": false
   },
   "outputs": [
    {
     "data": {
      "text/html": [
       "<div>\n",
       "<table border=\"1\" class=\"dataframe\">\n",
       "  <thead>\n",
       "    <tr style=\"text-align: right;\">\n",
       "      <th></th>\n",
       "      <th>yellowCards</th>\n",
       "      <th>redCards</th>\n",
       "      <th>rater1</th>\n",
       "      <th>weight</th>\n",
       "      <th>ties</th>\n",
       "      <th>height</th>\n",
       "      <th>goals</th>\n",
       "      <th>games</th>\n",
       "      <th>rater2</th>\n",
       "      <th>defeats</th>\n",
       "      <th>...</th>\n",
       "      <th>position_Center Midfielder</th>\n",
       "      <th>position_Defensive Midfielder</th>\n",
       "      <th>position_Goalkeeper</th>\n",
       "      <th>position_Left Fullback</th>\n",
       "      <th>position_Left Midfielder</th>\n",
       "      <th>position_Left Winger</th>\n",
       "      <th>position_Right Fullback</th>\n",
       "      <th>position_Right Midfielder</th>\n",
       "      <th>position_Right Winger</th>\n",
       "      <th>position_nan</th>\n",
       "    </tr>\n",
       "    <tr>\n",
       "      <th>playerShort</th>\n",
       "      <th></th>\n",
       "      <th></th>\n",
       "      <th></th>\n",
       "      <th></th>\n",
       "      <th></th>\n",
       "      <th></th>\n",
       "      <th></th>\n",
       "      <th></th>\n",
       "      <th></th>\n",
       "      <th></th>\n",
       "      <th></th>\n",
       "      <th></th>\n",
       "      <th></th>\n",
       "      <th></th>\n",
       "      <th></th>\n",
       "      <th></th>\n",
       "      <th></th>\n",
       "      <th></th>\n",
       "      <th></th>\n",
       "      <th></th>\n",
       "      <th></th>\n",
       "    </tr>\n",
       "  </thead>\n",
       "  <tbody>\n",
       "    <tr>\n",
       "      <th>aaron-hughes</th>\n",
       "      <td>19</td>\n",
       "      <td>0</td>\n",
       "      <td>0.25</td>\n",
       "      <td>71.0</td>\n",
       "      <td>179</td>\n",
       "      <td>182.0</td>\n",
       "      <td>9</td>\n",
       "      <td>654</td>\n",
       "      <td>0.00</td>\n",
       "      <td>228</td>\n",
       "      <td>...</td>\n",
       "      <td>0.0</td>\n",
       "      <td>0.0</td>\n",
       "      <td>0.0</td>\n",
       "      <td>0.0</td>\n",
       "      <td>0.0</td>\n",
       "      <td>0.0</td>\n",
       "      <td>0.0</td>\n",
       "      <td>0.0</td>\n",
       "      <td>0.0</td>\n",
       "      <td>0.0</td>\n",
       "    </tr>\n",
       "    <tr>\n",
       "      <th>aaron-hunt</th>\n",
       "      <td>42</td>\n",
       "      <td>1</td>\n",
       "      <td>0.00</td>\n",
       "      <td>73.0</td>\n",
       "      <td>73</td>\n",
       "      <td>183.0</td>\n",
       "      <td>62</td>\n",
       "      <td>336</td>\n",
       "      <td>0.25</td>\n",
       "      <td>122</td>\n",
       "      <td>...</td>\n",
       "      <td>0.0</td>\n",
       "      <td>0.0</td>\n",
       "      <td>0.0</td>\n",
       "      <td>0.0</td>\n",
       "      <td>0.0</td>\n",
       "      <td>0.0</td>\n",
       "      <td>0.0</td>\n",
       "      <td>0.0</td>\n",
       "      <td>0.0</td>\n",
       "      <td>0.0</td>\n",
       "    </tr>\n",
       "    <tr>\n",
       "      <th>aaron-lennon</th>\n",
       "      <td>11</td>\n",
       "      <td>0</td>\n",
       "      <td>0.25</td>\n",
       "      <td>63.0</td>\n",
       "      <td>97</td>\n",
       "      <td>165.0</td>\n",
       "      <td>31</td>\n",
       "      <td>412</td>\n",
       "      <td>0.25</td>\n",
       "      <td>115</td>\n",
       "      <td>...</td>\n",
       "      <td>0.0</td>\n",
       "      <td>0.0</td>\n",
       "      <td>0.0</td>\n",
       "      <td>0.0</td>\n",
       "      <td>0.0</td>\n",
       "      <td>0.0</td>\n",
       "      <td>0.0</td>\n",
       "      <td>1.0</td>\n",
       "      <td>0.0</td>\n",
       "      <td>0.0</td>\n",
       "    </tr>\n",
       "    <tr>\n",
       "      <th>aaron-ramsey</th>\n",
       "      <td>31</td>\n",
       "      <td>1</td>\n",
       "      <td>0.00</td>\n",
       "      <td>76.0</td>\n",
       "      <td>42</td>\n",
       "      <td>178.0</td>\n",
       "      <td>39</td>\n",
       "      <td>260</td>\n",
       "      <td>0.00</td>\n",
       "      <td>68</td>\n",
       "      <td>...</td>\n",
       "      <td>1.0</td>\n",
       "      <td>0.0</td>\n",
       "      <td>0.0</td>\n",
       "      <td>0.0</td>\n",
       "      <td>0.0</td>\n",
       "      <td>0.0</td>\n",
       "      <td>0.0</td>\n",
       "      <td>0.0</td>\n",
       "      <td>0.0</td>\n",
       "      <td>0.0</td>\n",
       "    </tr>\n",
       "    <tr>\n",
       "      <th>abdelhamid-el-kaoutari</th>\n",
       "      <td>8</td>\n",
       "      <td>2</td>\n",
       "      <td>0.25</td>\n",
       "      <td>73.0</td>\n",
       "      <td>40</td>\n",
       "      <td>180.0</td>\n",
       "      <td>1</td>\n",
       "      <td>124</td>\n",
       "      <td>0.25</td>\n",
       "      <td>43</td>\n",
       "      <td>...</td>\n",
       "      <td>0.0</td>\n",
       "      <td>0.0</td>\n",
       "      <td>0.0</td>\n",
       "      <td>0.0</td>\n",
       "      <td>0.0</td>\n",
       "      <td>0.0</td>\n",
       "      <td>0.0</td>\n",
       "      <td>0.0</td>\n",
       "      <td>0.0</td>\n",
       "      <td>0.0</td>\n",
       "    </tr>\n",
       "  </tbody>\n",
       "</table>\n",
       "<p>5 rows × 30 columns</p>\n",
       "</div>"
      ],
      "text/plain": [
       "                        yellowCards  redCards  rater1  weight  ties  height  \\\n",
       "playerShort                                                                   \n",
       "aaron-hughes                     19         0    0.25    71.0   179   182.0   \n",
       "aaron-hunt                       42         1    0.00    73.0    73   183.0   \n",
       "aaron-lennon                     11         0    0.25    63.0    97   165.0   \n",
       "aaron-ramsey                     31         1    0.00    76.0    42   178.0   \n",
       "abdelhamid-el-kaoutari            8         2    0.25    73.0    40   180.0   \n",
       "\n",
       "                        goals  games  rater2  defeats      ...       \\\n",
       "playerShort                                                ...        \n",
       "aaron-hughes                9    654    0.00      228      ...        \n",
       "aaron-hunt                 62    336    0.25      122      ...        \n",
       "aaron-lennon               31    412    0.25      115      ...        \n",
       "aaron-ramsey               39    260    0.00       68      ...        \n",
       "abdelhamid-el-kaoutari      1    124    0.25       43      ...        \n",
       "\n",
       "                        position_Center Midfielder  \\\n",
       "playerShort                                          \n",
       "aaron-hughes                                   0.0   \n",
       "aaron-hunt                                     0.0   \n",
       "aaron-lennon                                   0.0   \n",
       "aaron-ramsey                                   1.0   \n",
       "abdelhamid-el-kaoutari                         0.0   \n",
       "\n",
       "                        position_Defensive Midfielder  position_Goalkeeper  \\\n",
       "playerShort                                                                  \n",
       "aaron-hughes                                      0.0                  0.0   \n",
       "aaron-hunt                                        0.0                  0.0   \n",
       "aaron-lennon                                      0.0                  0.0   \n",
       "aaron-ramsey                                      0.0                  0.0   \n",
       "abdelhamid-el-kaoutari                            0.0                  0.0   \n",
       "\n",
       "                        position_Left Fullback  position_Left Midfielder  \\\n",
       "playerShort                                                                \n",
       "aaron-hughes                               0.0                       0.0   \n",
       "aaron-hunt                                 0.0                       0.0   \n",
       "aaron-lennon                               0.0                       0.0   \n",
       "aaron-ramsey                               0.0                       0.0   \n",
       "abdelhamid-el-kaoutari                     0.0                       0.0   \n",
       "\n",
       "                        position_Left Winger  position_Right Fullback  \\\n",
       "playerShort                                                             \n",
       "aaron-hughes                             0.0                      0.0   \n",
       "aaron-hunt                               0.0                      0.0   \n",
       "aaron-lennon                             0.0                      0.0   \n",
       "aaron-ramsey                             0.0                      0.0   \n",
       "abdelhamid-el-kaoutari                   0.0                      0.0   \n",
       "\n",
       "                        position_Right Midfielder  position_Right Winger  \\\n",
       "playerShort                                                                \n",
       "aaron-hughes                                  0.0                    0.0   \n",
       "aaron-hunt                                    0.0                    0.0   \n",
       "aaron-lennon                                  1.0                    0.0   \n",
       "aaron-ramsey                                  0.0                    0.0   \n",
       "abdelhamid-el-kaoutari                        0.0                    0.0   \n",
       "\n",
       "                        position_nan  \n",
       "playerShort                           \n",
       "aaron-hughes                     0.0  \n",
       "aaron-hunt                       0.0  \n",
       "aaron-lennon                     0.0  \n",
       "aaron-ramsey                     0.0  \n",
       "abdelhamid-el-kaoutari           0.0  \n",
       "\n",
       "[5 rows x 30 columns]"
      ]
     },
     "execution_count": 3,
     "metadata": {},
     "output_type": "execute_result"
    }
   ],
   "source": [
    "# drop rows for which we have no photo (and thus no skin rating)\n",
    "df.dropna(subset=['rater1', 'rater2', 'weight', 'height'], inplace=True)\n",
    "\n",
    "# group by players\n",
    "group_by_players = df.groupby(level=0)\n",
    "\n",
    "# build the data used for later analysis\n",
    "\n",
    "# data\n",
    "player_description = group_by_players.agg({'leagueCountry': lambda x: x.value_counts().index[0],\n",
    "                                           'position': 'first',\n",
    "                                           'height': 'mean', \n",
    "                                           'weight': 'mean',\n",
    "                                           'games': 'sum',\n",
    "                                           'victories': 'sum',\n",
    "                                           'ties': 'sum',\n",
    "                                           'defeats': 'sum',\n",
    "                                           'goals': 'sum',\n",
    "                                           'yellowCards': 'sum',\n",
    "                                           'yellowReds': 'sum',\n",
    "                                           'redCards': 'sum',\n",
    "                                           'rater1': 'first',\n",
    "                                           'rater2': 'first'\n",
    "                                          })\n",
    "player_description = pd.get_dummies(player_description, dummy_na= True, columns = ['leagueCountry', 'position'])\n",
    "player_description.head()"
   ]
  },
  {
   "cell_type": "markdown",
   "metadata": {},
   "source": [
    "We can see that we still have missing values in these two fields: height and weight. We have two toptions to deal with this: either get rid of the players for which we don't have those values (in the worst case scenario, that's 24 players less) or we try to interpolate their weight and height by taking the median or the mean for example. This can introduce bias so we chose the first option"
   ]
  },
  {
   "cell_type": "code",
   "execution_count": 4,
   "metadata": {
    "collapsed": false
   },
   "outputs": [],
   "source": [
    "# labels\n",
    "player_rating = player_description['rater1']\n",
    "\n",
    "player_description.drop(['rater1', 'rater2'], axis=1, inplace=True)\n"
   ]
  },
  {
   "cell_type": "markdown",
   "metadata": {},
   "source": [
    "## Training the classifier"
   ]
  },
  {
   "cell_type": "code",
   "execution_count": 49,
   "metadata": {
    "collapsed": false
   },
   "outputs": [
    {
     "data": {
      "image/png": "[encoded data removed]",
      "text/plain": [
       "<matplotlib.figure.Figure at 0x1b7512d0470>"
      ]
     },
     "metadata": {},
     "output_type": "display_data"
    }
   ],
   "source": [
    "import warnings\n",
    "warnings.filterwarnings('ignore')\n",
    "\n",
    "X = player_description.as_matrix()\n",
    "y = (player_rating*4).as_matrix()\n",
    "X_train, X_test, y_train, y_test = train_test_split(X, y, test_size=0.1, random_state=0)\n",
    "tr_accuracy = []\n",
    "te_accuracy = []\n",
    "cross = []\n",
    "for n in [20]:\n",
    "    for d in range(1,30):\n",
    "        model = RandomForestClassifier(n_estimators=n, max_depth=d)\n",
    "        c = sklearn.cross_validation.cross_val_score(model, X, y, cv=20, scoring='f1_weighted')\n",
    "        cross.append(np.mean(c))\n",
    "        model.fit(X_train, y_train)\n",
    "\n",
    "        te_pred = model.predict(X_test)\n",
    "        tr_pred = model.predict(X_train)\n",
    "\n",
    "        tr_error = tr_pred == y_train\n",
    "        tr_error = np.sum(tr_error)/len(tr_error)\n",
    "\n",
    "        te_error = te_pred == y_test\n",
    "        te_error = np.sum(te_error)/len(te_error)\n",
    "\n",
    "        tr_accuracy.append(tr_error)\n",
    "        te_accuracy.append(te_error)\n",
    "        \n",
    "plt.plot(range(1,30), tr_accuracy)\n",
    "plt.plot(range(1,30), cross);\n"
   ]
  },
  {
   "cell_type": "markdown",
   "metadata": {
    "collapsed": false
   },
   "source": [
    "### Effect of the parameters on the classifier\n",
    "We see the overfitting by changing the maximum depth of the tree. See graph before"
   ]
  },
  {
   "cell_type": "markdown",
   "metadata": {
    "collapsed": true
   },
   "source": [
    "### Feature Importance"
   ]
  },
  {
   "cell_type": "code",
   "execution_count": 50,
   "metadata": {
    "collapsed": false,
    "scrolled": true
   },
   "outputs": [
    {
     "name": "stdout",
     "output_type": "stream",
     "text": [
      "1. feature games (0.111571)\n",
      "2. feature victories (0.101784)\n",
      "3. feature yellowCards (0.094759)\n",
      "4. feature defeats (0.092621)\n",
      "5. feature goals (0.090911)\n",
      "6. feature ties (0.088856)\n",
      "7. feature weight (0.087823)\n",
      "8. feature height (0.082417)\n",
      "9. feature redCards (0.042586)\n",
      "10. feature yellowReds (0.040195)\n",
      "11. feature leagueCountry_Spain (0.014848)\n",
      "12. feature leagueCountry_Germany (0.014545)\n",
      "13. feature leagueCountry_England (0.013819)\n",
      "14. feature leagueCountry_France (0.013810)\n",
      "15. feature position_Center Forward (0.012262)\n",
      "16. feature position_Defensive Midfielder (0.011999)\n",
      "17. feature position_Center Back (0.011638)\n",
      "18. feature position_nan (0.010626)\n",
      "19. feature position_Attacking Midfielder (0.008998)\n",
      "20. feature position_Right Fullback (0.008874)\n",
      "21. feature position_Left Fullback (0.007955)\n",
      "22. feature position_Left Winger (0.007649)\n",
      "23. feature position_Right Winger (0.006367)\n",
      "24. feature position_Right Midfielder (0.006231)\n",
      "25. feature position_Left Midfielder (0.006153)\n",
      "26. feature position_Goalkeeper (0.005686)\n",
      "27. feature position_Center Midfielder (0.005018)\n",
      "28. feature leagueCountry_nan (0.000000)\n"
     ]
    },
    {
     "data": {
      "image/png": "[encoded data removed]",
      "text/plain": [
       "<matplotlib.figure.Figure at 0x1b7550bd240>"
      ]
     },
     "metadata": {},
     "output_type": "display_data"
    }
   ],
   "source": [
    "importances = model.feature_importances_\n",
    "std = np.std([tree.feature_importances_ for tree in model.estimators_],\n",
    "             axis=0)\n",
    "indices = np.argsort(importances)[::-1]\n",
    "\n",
    "col = player_description.columns\n",
    "\n",
    "for f in range(X.shape[1]):\n",
    "    print(\"%d. feature %s (%f)\" % (f + 1, col[indices[f]], importances[indices[f]]))\n",
    "\n",
    "# Plot the feature importances of the forest\n",
    "plt.figure()\n",
    "plt.title(\"Feature importances\")\n",
    "plt.bar(range(X.shape[1]), importances[indices],\n",
    "       color=\"r\", yerr=std[indices], align=\"center\")\n",
    "plt.xticks(range(X.shape[1]), col)\n",
    "plt.xlim([-1, X.shape[1]])\n",
    "plt.show()"
   ]
  },
  {
   "cell_type": "markdown",
   "metadata": {
    "collapsed": true
   },
   "source": [
    "### Unsupervised learning : Data processing"
   ]
  },
  {
   "cell_type": "code",
   "execution_count": 56,
   "metadata": {
    "collapsed": false
   },
   "outputs": [],
   "source": [
    "df1 = df[['meanIAT', 'nIAT', 'seIAT', 'meanExp', 'nExp', 'seExp']]\n",
    "\n",
    "df1['mIAT'] = df1.apply(lambda x: x.loc['meanIAT']*x.loc['nIAT'], axis=1)\n",
    "df1['sIAT'] = df1.apply(lambda x: x.loc['seIAT']*x.loc['nIAT'], axis=1)\n",
    "df1['mExp'] = df1.apply(lambda x: x.loc['meanExp']*x.loc['nExp'], axis=1)\n",
    "df1['sExp'] = df1.apply(lambda x: x.loc['seExp']*x.loc['nExp'], axis=1)\n",
    "\n",
    "group_player = df1.groupby(df.index)\n",
    "\n",
    "ref = group_player.agg({'nIAT': 'sum',\n",
    "                        'mIAT': 'sum',\n",
    "                        'sIAT': 'sum',\n",
    "                        'nExp': 'sum',\n",
    "                        'mExp': 'sum',\n",
    "                        'sExp': 'sum'     \n",
    "    })\n",
    "\n",
    "ref['mIAT'] = ref['mIAT']/ref['nIAT']\n",
    "ref['mExp'] = ref['mExp']/ref['nExp']\n",
    "\n",
    "ref['sIAT'] = ref['sIAT']/ref['nExp']\n",
    "ref['sExp'] = ref['sExp']/ref['nExp']\n",
    "\n",
    "ref.drop(['nIAT', 'nExp'], axis=1, inplace=True)"
   ]
  },
  {
   "cell_type": "markdown",
   "metadata": {},
   "source": [
    "### Clustering"
   ]
  },
  {
   "cell_type": "code",
   "execution_count": 69,
   "metadata": {
    "collapsed": false
   },
   "outputs": [
    {
     "data": {
      "text/plain": [
       "0.71332948684744446"
      ]
     },
     "execution_count": 69,
     "metadata": {},
     "output_type": "execute_result"
    }
   ],
   "source": [
    "kMean = sklearn.cluster.KMeans(n_clusters=2).fit(ref)\n",
    "score = sklearn.metrics.silhouette_score(ref, kMean.labels_)\n",
    "\n",
    "score"
   ]
  },
  {
   "cell_type": "code",
   "execution_count": 70,
   "metadata": {
    "collapsed": false
   },
   "outputs": [
    {
     "data": {
      "text/plain": [
       "0.71333834444353883"
      ]
     },
     "execution_count": 70,
     "metadata": {},
     "output_type": "execute_result"
    }
   ],
   "source": [
    "ref2 = ref.drop(['sExp', 'sIAT'], axis=1)\n",
    "kMean2 = sklearn.cluster.KMeans(n_clusters=2).fit(ref2)\n",
    "score2 = sklearn.metrics.silhouette_score(ref2, kMean2.labels_)\n",
    "\n",
    "score2"
   ]
  },
  {
   "cell_type": "code",
   "execution_count": 71,
   "metadata": {
    "collapsed": false
   },
   "outputs": [
    {
     "data": {
      "text/plain": [
       "0.7875328285179074"
      ]
     },
     "execution_count": 71,
     "metadata": {},
     "output_type": "execute_result"
    }
   ],
   "source": [
    "ref3 = ref.drop(['sExp', 'sIAT', 'mExp'], axis=1)\n",
    "kMean3 = sklearn.cluster.KMeans(n_clusters=2).fit(ref3)\n",
    "score3 = sklearn.metrics.silhouette_score(ref3, kMean3.labels_)\n",
    "\n",
    "score3"
   ]
  },
  {
   "cell_type": "code",
   "execution_count": 72,
   "metadata": {
    "collapsed": false
   },
   "outputs": [
    {
     "data": {
      "text/plain": [
       "0.71264616188767027"
      ]
     },
     "execution_count": 72,
     "metadata": {},
     "output_type": "execute_result"
    }
   ],
   "source": [
    "ref4 = ref.drop(['sExp', 'sIAT', 'mIAT'], axis=1)\n",
    "kMean4 = sklearn.cluster.KMeans(n_clusters=2).fit(ref4)\n",
    "score4 = sklearn.metrics.silhouette_score(ref4, kMean4.labels_)\n",
    "\n",
    "score4"
   ]
  },
  {
   "cell_type": "code",
   "execution_count": null,
   "metadata": {
    "collapsed": true
   },
   "outputs": [],
   "source": []
  }
 ],
 "metadata": {
  "anaconda-cloud": {},
  "kernelspec": {
   "display_name": "Python [Root]",
   "language": "python",
   "name": "Python [Root]"
  },
  "language_info": {
   "codemirror_mode": {
    "name": "ipython",
    "version": 3
   },
   "file_extension": ".py",
   "mimetype": "text/x-python",
   "name": "python",
   "nbconvert_exporter": "python",
   "pygments_lexer": "ipython3",
   "version": "3.5.2"
  }
 },
 "nbformat": 4,
 "nbformat_minor": 0
}
